{
 "cells": [
  {
   "cell_type": "markdown",
   "metadata": {},
   "source": [
    "# 读取img转为tensor"
   ]
  },
  {
   "cell_type": "code",
   "execution_count": null,
   "metadata": {},
   "outputs": [],
   "source": [
    "import cv2\n",
    "import torch\n",
    "def read_img(img_path):\n",
    "    \"\"\"\n",
    "    return:\n",
    "        b c h w\n",
    "    \"\"\"\n",
    "    img = cv2.imread(img_path)\n",
    "    img = cv2.cvtColor(img,cv2.COLOR_BGR2RGB).astype(\"float32\")\n",
    "    img = torch.from_numpy(img.transpose(2,0,1)).float()/255.0\n",
    "    return img.unsqueeze(0)"
   ]
  },
  {
   "cell_type": "markdown",
   "metadata": {},
   "source": [
    "# tensor保存为image"
   ]
  },
  {
   "cell_type": "code",
   "execution_count": null,
   "metadata": {},
   "outputs": [],
   "source": [
    "import torchvision.transforms.functional as tf\n",
    "def tensor2img(tensor,name):\n",
    "    \"\"\"\n",
    "    tensor:\n",
    "        c h w\n",
    "    \"\"\"\n",
    "    image = tf.to_pil_image(tensor)\n",
    "    image.save(name)"
   ]
  }
 ],
 "metadata": {
  "language_info": {
   "name": "python"
  },
  "orig_nbformat": 4
 },
 "nbformat": 4,
 "nbformat_minor": 2
}
