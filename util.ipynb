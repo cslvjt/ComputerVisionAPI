{
 "cells": [
  {
   "cell_type": "markdown",
   "metadata": {},
   "source": [
    "# 创建日志"
   ]
  },
  {
   "cell_type": "code",
   "execution_count": null,
   "metadata": {},
   "outputs": [],
   "source": [
    "import logging\n",
    "logger_path = \"\"\n",
    "logging.basicConfig(filename=logger_path, level=logging.INFO, format='%(asctime)s - %(levelname)s - %(message)s')\n",
    "# 输出日志信息\n",
    "logging.info('This is an informational message.')\n",
    "logging.warning('This is a warning message.')\n",
    "logging.error('This is an error message.')"
   ]
  }
 ],
 "metadata": {
  "language_info": {
   "name": "python"
  }
 },
 "nbformat": 4,
 "nbformat_minor": 2
}
