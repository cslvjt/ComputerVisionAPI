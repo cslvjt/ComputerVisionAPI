{
 "cells": [
  {
   "cell_type": "markdown",
   "metadata": {},
   "source": [
    "# 可视化光流"
   ]
  },
  {
   "cell_type": "code",
   "execution_count": null,
   "metadata": {},
   "outputs": [],
   "source": [
    "from torchvision.utils import flow_to_image\n",
    "from einops import rearrange\n",
    "import torchvision.transforms.functional as tf\n",
    "def flow2img(flow,name):\n",
    "    \"\"\"\n",
    "    flow: h w 2\n",
    "    \"\"\"\n",
    "    flow = rearrange(flow,\"h w c -> c h w\")\n",
    "    flow_im = flow_to_image(flow)\n",
    "    image = tf.to_pil_image(flow_im)\n",
    "    image.save(name)"
   ]
  }
 ],
 "metadata": {
  "kernelspec": {
   "display_name": "pytorch",
   "language": "python",
   "name": "python3"
  },
  "language_info": {
   "name": "python",
   "version": "3.8.13"
  }
 },
 "nbformat": 4,
 "nbformat_minor": 2
}
