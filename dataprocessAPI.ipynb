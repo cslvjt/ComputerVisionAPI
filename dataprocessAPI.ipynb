{
 "cells": [
  {
   "cell_type": "markdown",
   "metadata": {},
   "source": [
    "# 多帧图像转为视频"
   ]
  },
  {
   "cell_type": "code",
   "execution_count": null,
   "metadata": {},
   "outputs": [],
   "source": [
    "import cv2\n",
    "import os\n",
    "\n",
    "# 图像文件夹路径\n",
    "image_folder = \"visualResult/CoDeFv1/beauty_1\"\n",
    "fps = 30.0\n",
    "\n",
    "# 视频输出路径和名称\n",
    "video_name = \"visualResult/CoDeFv1/beauty_1.avi\"\n",
    "\n",
    "# 获取图像文件夹中的所有图像文件名\n",
    "images = [img for img in os.listdir(image_folder)]\n",
    "\n",
    "# 读取第一张图像，获取图像尺寸\n",
    "frame = cv2.imread(os.path.join(image_folder, images[0]))\n",
    "height, width, layers = frame.shape\n",
    "\n",
    "# 使用cv2.VideoWriter创建视频写入对象\n",
    "video = cv2.VideoWriter(video_name, cv2.VideoWriter_fourcc(*\"MJPG\"), fps, (width, height))\n",
    "\n",
    "# 将每个图像逐帧写入视频\n",
    "for image in images:\n",
    "    video.write(cv2.imread(os.path.join(image_folder, image)))\n",
    "\n",
    "# 关闭视频写入对象\n",
    "video.release()\n"
   ]
  },
  {
   "cell_type": "markdown",
   "metadata": {},
   "source": [
    "# 采样图像尺寸为指定大小"
   ]
  },
  {
   "cell_type": "code",
   "execution_count": null,
   "metadata": {},
   "outputs": [],
   "source": [
    "# 应用PIL\n",
    "from PIL import Image\n",
    "\n",
    "def resize_image(input_image_path, output_image_path, size):\n",
    "    with Image.open(input_image_path) as image:\n",
    "        resized_image = image.resize(size)\n",
    "        resized_image.save(output_image_path)\n",
    "\n",
    "# 示例用法\n",
    "input_path = 'input.jpg'  # 输入图像路径\n",
    "output_path = 'output.jpg'  # 输出图像路径\n",
    "target_size = (800, 600)  # 目标大小，宽度为800像素，高度为600像素\n",
    "\n",
    "resize_image(input_path, output_path, target_size)\n"
   ]
  },
  {
   "cell_type": "code",
   "execution_count": null,
   "metadata": {},
   "outputs": [],
   "source": [
    "# 应用opencv\n",
    "# 指定新的图像尺寸\n",
    "import cv2\n",
    "\n",
    "# 加载图像\n",
    "image = cv2.imread('input_image.jpg')  # 替换为你的图像路径\n",
    "\n",
    "new_width = 500\n",
    "new_height = 300\n",
    "\n",
    "# 采样图像\n",
    "resized_image = cv2.resize(image, (new_width, new_height))\n",
    "# 保存采样后的图像\n",
    "cv2.imwrite('output_image.jpg', resized_image)  # 替换为你想保存的路径和文件名\n",
    "\n"
   ]
  }
 ],
 "metadata": {
  "language_info": {
   "name": "python"
  },
  "orig_nbformat": 4
 },
 "nbformat": 4,
 "nbformat_minor": 2
}
